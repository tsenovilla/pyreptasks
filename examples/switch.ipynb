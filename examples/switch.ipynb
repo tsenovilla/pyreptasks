{
 "cells": [
  {
   "cell_type": "markdown",
   "metadata": {},
   "source": [
    "This Jupyter notebook aims to show the use of the Switch class."
   ]
  },
  {
   "cell_type": "code",
   "execution_count": 2,
   "metadata": {},
   "outputs": [],
   "source": [
    "from pyreptasks import Switch"
   ]
  },
  {
   "cell_type": "markdown",
   "metadata": {},
   "source": [
    "We start showing the documentation of the class"
   ]
  },
  {
   "cell_type": "code",
   "execution_count": 3,
   "metadata": {},
   "outputs": [
    {
     "name": "stdout",
     "output_type": "stream",
     "text": [
      "\n",
      "    This class creates a switch structure in Python. It may be configured to manage a default case if necessary.\n",
      "\n",
      "    An object of type Switch must be declared using at least two arguments: the key values for the switch and the actions to perform.\n",
      "    Both arguments must be lists of the same length. REMARK: The orders of the lists are important, the first key will execute the first action,\n",
      "    the second key will execute the second action, and so on.\n",
      "\n",
      "    There are also two optional arguments that may be provided when creating the object:\n",
      "\n",
      "     - use_default_case: <class 'bool'>. Used to determine if a default case is necessary for the switch. By default its value is False.\n",
      "     - default_case: The action to perform in the default case if use_default_case == True.\n",
      "\n",
      "    ATTRIBUTES:\n",
      "\n",
      "     - options: A dictionary containing the pairs keys/values.\n",
      "     - use_default_case: A boolean used to indicate if an action should be performed in a default case.\n",
      "     - default_case: If use_default_case == True, the action to perform in the default case.\n",
      "\n",
      "    METHODS:\n",
      "\n",
      "     - exec: This method takes the desired choice as argument and returns the corresponding switch value.\n",
      "    \n"
     ]
    }
   ],
   "source": [
    "print(Switch.__doc__)"
   ]
  },
  {
   "cell_type": "markdown",
   "metadata": {},
   "source": [
    "USAGE EXAMPLE\n",
    "==============\n",
    "\n",
    "In this example we are going to define a function taking a string and two numbers as arguments. The string will indicate the computation to do with the numbers (\"add\", \"sub\", \"mul\"). We will use a Switch object to determine the selected option. If the input is not one of the admitted options, we are going to set up a default that will tell us that the operation we have introduced is not admitted.\n",
    "\n",
    "We see the power of switch structures as we can pass other functions as switch actions."
   ]
  },
  {
   "cell_type": "code",
   "execution_count": 4,
   "metadata": {},
   "outputs": [],
   "source": [
    "def add(a,b): return a+b\n",
    "\n",
    "def sub(a,b): return a-b\n",
    "\n",
    "def mul(a,b): return a*b"
   ]
  },
  {
   "cell_type": "code",
   "execution_count": 5,
   "metadata": {},
   "outputs": [
    {
     "name": "stdout",
     "output_type": "stream",
     "text": [
      "46\n",
      "-51\n",
      "12\n",
      "Op is not admitted\n",
      "Op is not admitted\n"
     ]
    }
   ],
   "source": [
    "def example_1(op, n1, n2):\n",
    "    switch = Switch([\"add\",\"sub\",\"mul\"],[add,sub,mul],use_default_case=True,default_case=\"Op is not admitted\")\n",
    "    if op in switch.options.keys():\n",
    "        return switch.exec(op)(n1,n2)\n",
    "    return switch.exec(op)\n",
    "\n",
    "print(example_1(\"add\",45,1))\n",
    "print(example_1(\"sub\",3,54))\n",
    "print(example_1(\"mul\",3,4))\n",
    "print(example_1(\"division\",4,7))\n",
    "print(example_1(2,2,2))"
   ]
  },
  {
   "attachments": {},
   "cell_type": "markdown",
   "metadata": {},
   "source": [
    "If we disable the default case in the previous example, we see that the Switch object does nothing"
   ]
  },
  {
   "cell_type": "code",
   "execution_count": 6,
   "metadata": {},
   "outputs": [
    {
     "name": "stdout",
     "output_type": "stream",
     "text": [
      "46\n",
      "-51\n",
      "12\n",
      "None\n",
      "None\n"
     ]
    }
   ],
   "source": [
    "def example_2(op, n1, n2):\n",
    "    switch = Switch([\"add\",\"sub\",\"mul\"],[add,sub,mul])\n",
    "    if op in switch.options.keys():\n",
    "        return switch.exec(op)(n1,n2)\n",
    "    return switch.exec(op)\n",
    "\n",
    "print(example_2(\"add\",45,1))\n",
    "print(example_2(\"sub\",3,54))\n",
    "print(example_2(\"mul\",3,4))\n",
    "print(example_2(\"division\",4,7))\n",
    "print(example_2(2,2,2))"
   ]
  }
 ],
 "metadata": {
  "kernelspec": {
   "display_name": "Python 3.8.3 64-bit",
   "language": "python",
   "name": "python3"
  },
  "language_info": {
   "codemirror_mode": {
    "name": "ipython",
    "version": 3
   },
   "file_extension": ".py",
   "mimetype": "text/x-python",
   "name": "python",
   "nbconvert_exporter": "python",
   "pygments_lexer": "ipython3",
   "version": "3.8.3"
  },
  "orig_nbformat": 4,
  "vscode": {
   "interpreter": {
    "hash": "aee8b7b246df8f9039afb4144a1f6fd8d2ca17a180786b69acc140d282b71a49"
   }
  }
 },
 "nbformat": 4,
 "nbformat_minor": 2
}
