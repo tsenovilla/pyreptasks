{
 "cells": [
  {
   "cell_type": "markdown",
   "metadata": {},
   "source": [
    "This Jupyter notebook aims to show the use of the Switch class."
   ]
  },
  {
   "cell_type": "code",
   "execution_count": 2,
   "metadata": {},
   "outputs": [],
   "source": [
    "from pyreptasks import Switch"
   ]
  },
  {
   "cell_type": "markdown",
   "metadata": {},
   "source": [
    "We start showing the documentation of the class"
   ]
  },
  {
   "cell_type": "code",
   "execution_count": 1,
   "metadata": {},
   "outputs": [
    {
     "ename": "NameError",
     "evalue": "name 'Switch' is not defined",
     "output_type": "error",
     "traceback": [
      "\u001b[0;31m---------------------------------------------------------------------------\u001b[0m",
      "\u001b[0;31mNameError\u001b[0m                                 Traceback (most recent call last)",
      "Cell \u001b[0;32mIn [1], line 1\u001b[0m\n\u001b[0;32m----> 1\u001b[0m \u001b[39mprint\u001b[39m(Switch\u001b[39m.\u001b[39m\u001b[39m__doc__\u001b[39m)\n",
      "\u001b[0;31mNameError\u001b[0m: name 'Switch' is not defined"
     ]
    }
   ],
   "source": [
    "print(Switch.__doc__)"
   ]
  },
  {
   "cell_type": "markdown",
   "metadata": {},
   "source": [
    "INTEGER SWITCH\n",
    "==============\n",
    "\n",
    "One of the most extended uses of a switch appears when we have computed a value and we need to execute some code depending on the result obtained. This result is commonly an integer, that's why a Switch object will consider by default that the arguments are integer. \n",
    "\n",
    "In this first example, we are going to define a function taking 2 integer arguments. It is going to compute the addition of both and depending on the result it will execute a different action:\n",
    "- If the addition is 3 it will return this number.\n",
    "- If the addition is 6 it will return \"Hello world\".\n",
    "- If the addition is 8 it will return the difference between both integers.\n",
    "\n",
    "Otherwise, the funcion do nothing."
   ]
  },
  {
   "cell_type": "code",
   "execution_count": 4,
   "metadata": {},
   "outputs": [
    {
     "name": "stdout",
     "output_type": "stream",
     "text": [
      "3\n",
      "Hello world\n",
      "-6\n",
      "None\n"
     ]
    }
   ],
   "source": [
    "def example_1(int1, int2):\n",
    "    switch_option = int1 + int2\n",
    "    switch = Switch([3,6,8],[3,\"Hello world\",int1-int2])\n",
    "    return switch.exec(switch_option)\n",
    "\n",
    "print(example_1(1,2))\n",
    "print(example_1(6,0))\n",
    "print(example_1(1,7))\n",
    "print(example_1(0,2))"
   ]
  },
  {
   "cell_type": "markdown",
   "metadata": {},
   "source": [
    "As it is written in the doc, we can also add a default case for all the cases where the condition is not a key of the switch. "
   ]
  },
  {
   "cell_type": "code",
   "execution_count": 5,
   "metadata": {},
   "outputs": [
    {
     "name": "stdout",
     "output_type": "stream",
     "text": [
      "3\n",
      "Hello world\n",
      "-6\n",
      "This is a default case\n"
     ]
    }
   ],
   "source": [
    "def example_1(int1, int2):\n",
    "    switch_option = int1 + int2\n",
    "    switch = Switch([3,6,8],[3,\"Hello world\",int1-int2],use_default_case=True,default_case=\"This is a default case\")\n",
    "    return switch.exec(switch_option)\n",
    "\n",
    "print(example_1(1,2))\n",
    "print(example_1(6,0))\n",
    "print(example_1(1,7))\n",
    "print(example_1(0,2))"
   ]
  },
  {
   "cell_type": "markdown",
   "metadata": {},
   "source": [
    "GENERAL SWITCH\n",
    "==============\n",
    "\n",
    "If we are not interested in using an integer key (for example, if we are coding an interactive menu where the user should introduce strings or whatever...), it's enough to declare the switch by including integer_switch=False. We can use as a key any object suitable to be hashed by a dictionary.\n",
    "\n",
    "In this example we are going to define a function taking a string and two numbers as arguments. The string will indicate the computation to do with the numbers (\"add\", \"sub\", \"mul\"). We also print that the introduced string is not valid if it is not in our list."
   ]
  },
  {
   "cell_type": "code",
   "execution_count": 6,
   "metadata": {},
   "outputs": [
    {
     "name": "stdout",
     "output_type": "stream",
     "text": [
      "46\n",
      "-51\n",
      "12\n",
      "Op is not admitted\n",
      "Op is not admitted\n"
     ]
    }
   ],
   "source": [
    "def example_2(op, n1, n2):\n",
    "    switch = Switch([\"add\",\"sub\",\"mul\"],[n1+n2,n1-n2,n1*n2],use_default_case=True,default_case=\"Op is not admitted\",integer_switch=False)\n",
    "    return switch.exec(op)\n",
    "\n",
    "print(example_2(\"add\",45,1))\n",
    "print(example_2(\"sub\",3,54))\n",
    "print(example_2(\"mul\",3,4))\n",
    "print(example_2(\"division\",4,7))\n",
    "print(example_2(2,2,2))"
   ]
  }
 ],
 "metadata": {
  "kernelspec": {
   "display_name": "Python 3.8.3 64-bit",
   "language": "python",
   "name": "python3"
  },
  "language_info": {
   "codemirror_mode": {
    "name": "ipython",
    "version": 3
   },
   "file_extension": ".py",
   "mimetype": "text/x-python",
   "name": "python",
   "nbconvert_exporter": "python",
   "pygments_lexer": "ipython3",
   "version": "3.8.3"
  },
  "orig_nbformat": 4,
  "vscode": {
   "interpreter": {
    "hash": "aee8b7b246df8f9039afb4144a1f6fd8d2ca17a180786b69acc140d282b71a49"
   }
  }
 },
 "nbformat": 4,
 "nbformat_minor": 2
}
